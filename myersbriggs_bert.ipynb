{
 "cells": [
  {
   "cell_type": "markdown",
   "metadata": {
    "colab_type": "text",
    "id": "j4X1KPQpLquA"
   },
   "source": [
    "# Sources for inspiration.\n",
    "\n",
    "This work is heavily based on these two resources. Kudos to the people who share their knowledge with the world!\n",
    "\n",
    "- http://mlexplained.com/2019/01/07/paper-dissected-bert-pre-training-of-deep-bidirectional-transformers-for-language-understanding-explained/\n",
    "- https://medium.com/swlh/using-deep-learning-to-classify-a-reddit-user-by-their-myers-briggs-mbti-personality-type-6b1b163194d\n"
   ]
  },
  {
   "cell_type": "markdown",
   "metadata": {
    "colab_type": "text",
    "id": "ceanGD9XCowU"
   },
   "source": [
    "# Install software and download dataset."
   ]
  },
  {
   "cell_type": "code",
   "execution_count": 1,
   "metadata": {
    "colab": {
     "base_uri": "https://localhost:8080/",
     "height": 553
    },
    "colab_type": "code",
    "id": "pKN1me-Gk6DV",
    "outputId": "4a995b84-818f-46d0-a8c6-5d54df7d0512"
   },
   "outputs": [
    {
     "name": "stdout",
     "output_type": "stream",
     "text": [
      "Requirement already satisfied: pytorch_pretrained_bert in /usr/local/lib/python3.6/dist-packages (0.6.2)\n",
      "Requirement already satisfied: regex in /usr/local/lib/python3.6/dist-packages (from pytorch_pretrained_bert) (2019.8.19)\n",
      "Requirement already satisfied: boto3 in /usr/local/lib/python3.6/dist-packages (from pytorch_pretrained_bert) (1.9.205)\n",
      "Requirement already satisfied: numpy in /usr/local/lib/python3.6/dist-packages (from pytorch_pretrained_bert) (1.16.4)\n",
      "Requirement already satisfied: requests in /usr/local/lib/python3.6/dist-packages (from pytorch_pretrained_bert) (2.21.0)\n",
      "Requirement already satisfied: torch>=0.4.1 in /usr/local/lib/python3.6/dist-packages (from pytorch_pretrained_bert) (1.1.0)\n",
      "Requirement already satisfied: tqdm in /usr/local/lib/python3.6/dist-packages (from pytorch_pretrained_bert) (4.28.1)\n",
      "Requirement already satisfied: s3transfer<0.3.0,>=0.2.0 in /usr/local/lib/python3.6/dist-packages (from boto3->pytorch_pretrained_bert) (0.2.1)\n",
      "Requirement already satisfied: botocore<1.13.0,>=1.12.205 in /usr/local/lib/python3.6/dist-packages (from boto3->pytorch_pretrained_bert) (1.12.205)\n",
      "Requirement already satisfied: jmespath<1.0.0,>=0.7.1 in /usr/local/lib/python3.6/dist-packages (from boto3->pytorch_pretrained_bert) (0.9.4)\n",
      "Requirement already satisfied: urllib3<1.25,>=1.21.1 in /usr/local/lib/python3.6/dist-packages (from requests->pytorch_pretrained_bert) (1.24.3)\n",
      "Requirement already satisfied: idna<2.9,>=2.5 in /usr/local/lib/python3.6/dist-packages (from requests->pytorch_pretrained_bert) (2.8)\n",
      "Requirement already satisfied: certifi>=2017.4.17 in /usr/local/lib/python3.6/dist-packages (from requests->pytorch_pretrained_bert) (2019.6.16)\n",
      "Requirement already satisfied: chardet<3.1.0,>=3.0.2 in /usr/local/lib/python3.6/dist-packages (from requests->pytorch_pretrained_bert) (3.0.4)\n",
      "Requirement already satisfied: python-dateutil<3.0.0,>=2.1; python_version >= \"2.7\" in /usr/local/lib/python3.6/dist-packages (from botocore<1.13.0,>=1.12.205->boto3->pytorch_pretrained_bert) (2.5.3)\n",
      "Requirement already satisfied: docutils<0.15,>=0.10 in /usr/local/lib/python3.6/dist-packages (from botocore<1.13.0,>=1.12.205->boto3->pytorch_pretrained_bert) (0.14)\n",
      "Requirement already satisfied: six>=1.5 in /usr/local/lib/python3.6/dist-packages (from python-dateutil<3.0.0,>=2.1; python_version >= \"2.7\"->botocore<1.13.0,>=1.12.205->boto3->pytorch_pretrained_bert) (1.12.0)\n",
      "--2019-08-22 10:01:33--  https://raw.githubusercontent.com/vdyagilev/RedditMBTI/master/mbti_subreddit_data.csv\n",
      "Resolving raw.githubusercontent.com (raw.githubusercontent.com)... 151.101.0.133, 151.101.64.133, 151.101.128.133, ...\n",
      "Connecting to raw.githubusercontent.com (raw.githubusercontent.com)|151.101.0.133|:443... connected.\n",
      "HTTP request sent, awaiting response... 200 OK\n",
      "Length: 9017292 (8.6M) [text/plain]\n",
      "Saving to: ‘mbti_subreddit_data.csv.3’\n",
      "\n",
      "mbti_subreddit_data 100%[===================>]   8.60M  --.-KB/s    in 0.06s   \n",
      "\n",
      "2019-08-22 10:01:33 (138 MB/s) - ‘mbti_subreddit_data.csv.3’ saved [9017292/9017292]\n",
      "\n"
     ]
    }
   ],
   "source": [
    "!pip install pytorch_pretrained_bert\n",
    "!wget https://raw.githubusercontent.com/vdyagilev/RedditMBTI/master/mbti_subreddit_data.csv"
   ]
  },
  {
   "cell_type": "markdown",
   "metadata": {
    "colab_type": "text",
    "id": "-Z5wN3BrCvff"
   },
   "source": [
    "# Imports and parameters."
   ]
  },
  {
   "cell_type": "code",
   "execution_count": 0,
   "metadata": {
    "colab": {},
    "colab_type": "code",
    "id": "_-A_zpNwnApD"
   },
   "outputs": [],
   "source": [
    "from pytorch_pretrained_bert import BertTokenizer \n",
    "from fastai.text.transform import BaseTokenizer, List\n",
    "from fastai.text.transform import Tokenizer\n",
    "from fastai.text import Vocab\n",
    "import itertools\n",
    "import pandas as pd\n",
    "from pathlib import Path\n",
    "from sklearn.model_selection import train_test_split\n",
    "from fastai.text.data import *\n",
    "from fastai.core import *\n",
    "from fastai.basic_data import *\n",
    "from fastai.data_block import *\n",
    "import torch\n",
    "import torch.nn as nn\n",
    "from pytorch_pretrained_bert.modeling import BertConfig, BertForSequenceClassification\n",
    "from fastai.basic_train import Learner\n",
    "from fastai.metrics import *\n",
    "from fastai.vision import *\n",
    "\n",
    "\n",
    "config_max_seq_len = 128\n",
    "config_binary = True"
   ]
  },
  {
   "cell_type": "markdown",
   "metadata": {
    "colab_type": "text",
    "id": "oQv7gQlfC3Ew"
   },
   "source": [
    "# Prepare data.\n",
    "\n",
    "This loads the data from the downloaded CSV-file into memory. Also allows for encoding either all Meyer-Briggs types or just \"introvert\"/\"extrovert\"."
   ]
  },
  {
   "cell_type": "code",
   "execution_count": 3,
   "metadata": {
    "colab": {
     "base_uri": "https://localhost:8080/",
     "height": 315
    },
    "colab_type": "code",
    "id": "kJYq2W57oTUV",
    "outputId": "7a8b7f39-a4b1-4bda-abb0-82f5a612d149"
   },
   "outputs": [
    {
     "name": "stdout",
     "output_type": "stream",
     "text": [
      "Labels before preprocessing:  {'enfj', 'j5u32bxN7v4', 'estj', 'enfp', 'entj', 'intj', 'infj', 'BHkhIjG0DKc', 'esfp', 'hQg4C5l9aPk', 'intp', 'FZjOd_LAGHw', 'w2rNWyVqYB4', 'esfj', 'istp', 'estp', 'istj', 'entp', 'infp', 'hvZJI8rerWA', '5_PUKLlgTgQ', 'isfp', '7B7NHT8iN_4', 'CfOL8VfC7kk', 'isfj'}\n",
      "['5_PUKLlgTgQ', 'FZjOd_LAGHw', 'BHkhIjG0DKc', '7B7NHT8iN_4', 'hvZJI8rerWA', 'j5u32bxN7v4', 'CfOL8VfC7kk', 'w2rNWyVqYB4', 'hQg4C5l9aPk']\n",
      "Labels after preprocessing: {'introvert', 'extrovert'}\n"
     ]
    },
    {
     "data": {
      "text/html": [
       "<div>\n",
       "<style scoped>\n",
       "    .dataframe tbody tr th:only-of-type {\n",
       "        vertical-align: middle;\n",
       "    }\n",
       "\n",
       "    .dataframe tbody tr th {\n",
       "        vertical-align: top;\n",
       "    }\n",
       "\n",
       "    .dataframe thead th {\n",
       "        text-align: right;\n",
       "    }\n",
       "</style>\n",
       "<table border=\"1\" class=\"dataframe\">\n",
       "  <thead>\n",
       "    <tr style=\"text-align: right;\">\n",
       "      <th></th>\n",
       "      <th>label</th>\n",
       "      <th>text</th>\n",
       "    </tr>\n",
       "  </thead>\n",
       "  <tbody>\n",
       "    <tr>\n",
       "      <th>0</th>\n",
       "      <td>introvert</td>\n",
       "      <td>The Tome of INFJ-lore (A user manual for INFJ)...</td>\n",
       "    </tr>\n",
       "    <tr>\n",
       "      <th>1</th>\n",
       "      <td>introvert</td>\n",
       "      <td>A love letter to INFJs I’ve met a lot of peopl...</td>\n",
       "    </tr>\n",
       "    <tr>\n",
       "      <th>2</th>\n",
       "      <td>introvert</td>\n",
       "      <td>It feels weird and sad to feel so much compass...</td>\n",
       "    </tr>\n",
       "    <tr>\n",
       "      <th>3</th>\n",
       "      <td>introvert</td>\n",
       "      <td>Just want a quiet simple life I’ve realized th...</td>\n",
       "    </tr>\n",
       "    <tr>\n",
       "      <th>4</th>\n",
       "      <td>introvert</td>\n",
       "      <td>Does anybody here feels like they want to dele...</td>\n",
       "    </tr>\n",
       "  </tbody>\n",
       "</table>\n",
       "</div>"
      ],
      "text/plain": [
       "       label                                               text\n",
       "0  introvert  The Tome of INFJ-lore (A user manual for INFJ)...\n",
       "1  introvert  A love letter to INFJs I’ve met a lot of peopl...\n",
       "2  introvert  It feels weird and sad to feel so much compass...\n",
       "3  introvert  Just want a quiet simple life I’ve realized th...\n",
       "4  introvert  Does anybody here feels like they want to dele..."
      ]
     },
     "execution_count": 3,
     "metadata": {
      "tags": []
     },
     "output_type": "execute_result"
    }
   ],
   "source": [
    "mb_types = [\"\".join(x) for x in itertools.product([\"e\", \"i\"], [\"s\", \"n\"], [\"t\", \"f\"], [\"j\", \"p\"])]\n",
    "\n",
    "# Load the data.\n",
    "df = pd.read_csv('mbti_subreddit_data.csv')\n",
    "\n",
    "# Keep only text an labels columns.\n",
    "df = df.iloc[:, :2]\n",
    "\n",
    "# Remove NaN clutter.\n",
    "df = df.dropna()\n",
    "\n",
    "print(\"Labels before preprocessing: \", set(df['label'].tolist()))\n",
    "\n",
    "# Find out which labels to drop. There is a certain amount of unclean data.\n",
    "labels_to_drop = [x for x in df['label'].tolist() if x not in mb_types]\n",
    "print(labels_to_drop)\n",
    "\n",
    "# Drop the surplus labels. Leaving us only with the MB character types.\n",
    "for label_to_drop in labels_to_drop:\n",
    "  indexNames = df[ df[\"label\"] == label_to_drop].index\n",
    "  df.drop(indexNames , inplace=True)\n",
    "\n",
    "# Convert to binary.\n",
    "if config_binary == True:\n",
    "  df.loc[df['label'].str.startswith('i'), 'label'] = 'introvert'\n",
    "  df.loc[df['label'].str.startswith('e'), 'label'] = 'extrovert'\n",
    "  mb_types = [\"introvert\", \"extrovert\"]\n",
    "\n",
    "print(\"Labels after preprocessing:\", set(df['label'].tolist()))\n",
    "\n",
    "# Remove all mentions of the types in the texts.\n",
    "def sanitize(text):\n",
    "    output_text = text\n",
    "    for mb_type in mb_types:\n",
    "        output_text = output_text.replace(mb_type, \"\")\n",
    "        output_text = output_text.replace(mb_type + 's', \"\")\n",
    "        output_text = output_text.replace(mb_type + '\\'s', \"\")\n",
    "        output_text = output_text.replace(mb_type.upper(), \"\")\n",
    "        output_text = output_text.replace(mb_type.upper() + 's', \"\")\n",
    "        output_text = output_text.replace(mb_type.upper() + '\\'s', \"\")\n",
    "    return output_text\n",
    "pd.options.mode.chained_assignment = None \n",
    "for index, row in df.iterrows(): \n",
    "     df.text[index] = sanitize(df.text[index])\n",
    "\n",
    "# Save and display.\n",
    "df.to_csv(\"mbti_subreddit_cleaned.csv\")\n",
    "df.head()"
   ]
  },
  {
   "cell_type": "markdown",
   "metadata": {
    "colab_type": "text",
    "id": "F_08tL5LDLXb"
   },
   "source": [
    "# Train-validation split."
   ]
  },
  {
   "cell_type": "code",
   "execution_count": 4,
   "metadata": {
    "colab": {
     "base_uri": "https://localhost:8080/",
     "height": 204
    },
    "colab_type": "code",
    "id": "P6n7uUXnnQ9I",
    "outputId": "23b57911-b3ec-4308-eb52-a57fd5f670a1"
   },
   "outputs": [
    {
     "data": {
      "text/html": [
       "<div>\n",
       "<style scoped>\n",
       "    .dataframe tbody tr th:only-of-type {\n",
       "        vertical-align: middle;\n",
       "    }\n",
       "\n",
       "    .dataframe tbody tr th {\n",
       "        vertical-align: top;\n",
       "    }\n",
       "\n",
       "    .dataframe thead th {\n",
       "        text-align: right;\n",
       "    }\n",
       "</style>\n",
       "<table border=\"1\" class=\"dataframe\">\n",
       "  <thead>\n",
       "    <tr style=\"text-align: right;\">\n",
       "      <th></th>\n",
       "      <th>Unnamed: 0</th>\n",
       "      <th>label</th>\n",
       "      <th>text</th>\n",
       "    </tr>\n",
       "  </thead>\n",
       "  <tbody>\n",
       "    <tr>\n",
       "      <th>1038</th>\n",
       "      <td>1038</td>\n",
       "      <td>introvert</td>\n",
       "      <td>Please, be kind to each other. I've been lurki...</td>\n",
       "    </tr>\n",
       "    <tr>\n",
       "      <th>4608</th>\n",
       "      <td>4608</td>\n",
       "      <td>introvert</td>\n",
       "      <td>ISFJ's: Who's your favorite character from Lor...</td>\n",
       "    </tr>\n",
       "    <tr>\n",
       "      <th>7169</th>\n",
       "      <td>7169</td>\n",
       "      <td>extrovert</td>\n",
       "      <td>Not sure you're an ENTP? Here's how the functi...</td>\n",
       "    </tr>\n",
       "    <tr>\n",
       "      <th>2075</th>\n",
       "      <td>2075</td>\n",
       "      <td>introvert</td>\n",
       "      <td>Weekly Thread: What's your ISTJ Superpower? We...</td>\n",
       "    </tr>\n",
       "    <tr>\n",
       "      <th>223</th>\n",
       "      <td>223</td>\n",
       "      <td>introvert</td>\n",
       "      <td>Does anyone else have a hard time explaining t...</td>\n",
       "    </tr>\n",
       "  </tbody>\n",
       "</table>\n",
       "</div>"
      ],
      "text/plain": [
       "      Unnamed: 0      label                                               text\n",
       "1038        1038  introvert  Please, be kind to each other. I've been lurki...\n",
       "4608        4608  introvert  ISFJ's: Who's your favorite character from Lor...\n",
       "7169        7169  extrovert  Not sure you're an ENTP? Here's how the functi...\n",
       "2075        2075  introvert  Weekly Thread: What's your ISTJ Superpower? We...\n",
       "223          223  introvert  Does anyone else have a hard time explaining t..."
      ]
     },
     "execution_count": 4,
     "metadata": {
      "tags": []
     },
     "output_type": "execute_result"
    }
   ],
   "source": [
    "train = pd.read_csv(\"mbti_subreddit_cleaned.csv\")\n",
    "train, val = train_test_split(train)\n",
    "train.head()"
   ]
  },
  {
   "cell_type": "markdown",
   "metadata": {
    "colab_type": "text",
    "id": "No3Q1mUnDS-Y"
   },
   "source": [
    "# Classes for the BERT-pipeline."
   ]
  },
  {
   "cell_type": "code",
   "execution_count": 0,
   "metadata": {
    "colab": {},
    "colab_type": "code",
    "id": "gPhFpkSfkyQr"
   },
   "outputs": [],
   "source": [
    "# Create tokenizer.\n",
    "\n",
    "class FastAiBertTokenizer(BaseTokenizer): \n",
    "  \"\"\"Wrapper around BertTokenizer to be compatible with fast.ai\"\"\"\n",
    "  \n",
    "  def __init__(self, tokenizer: BertTokenizer, max_seq_len: int=128, **kwargs): \n",
    "    self._pretrained_tokenizer = tokenizer \n",
    "    self.max_seq_len = max_seq_len \n",
    "  \n",
    "  def __call__(self, *args, **kwargs): \n",
    "    return self \n",
    "  \n",
    "  def tokenizer(self, t:str) -> List[str]: \n",
    "    \"\"\"Limits the maximum sequence length\"\"\" \n",
    "    return [\"[CLS]\"] + self._pretrained_tokenizer.tokenize(t)[:self.max_seq_len - 2] + [\"[SEP]\"]\n",
    "\n",
    "bert_tok = BertTokenizer.from_pretrained(\"bert-base-uncased\")\n",
    "fastai_tokenizer = Tokenizer(tok_func=FastAiBertTokenizer(bert_tok, max_seq_len=config_max_seq_len), pre_rules=[], post_rules=[])\n",
    "\n",
    "# Get the vocabulary.\n",
    "fastai_bert_vocab = Vocab(list(bert_tok.vocab.keys())) # TODO where is this used?"
   ]
  },
  {
   "cell_type": "code",
   "execution_count": 0,
   "metadata": {
    "colab": {},
    "colab_type": "code",
    "id": "omkxMyxCtYPP"
   },
   "outputs": [],
   "source": [
    "class BertTokenizeProcessor(TokenizeProcessor):\n",
    "    def __init__(self, tokenizer):\n",
    "         super().__init__(tokenizer=tokenizer, include_bos=False, include_eos=False)\n",
    "\n",
    "        \n",
    "class BertNumericalizeProcessor(NumericalizeProcessor):\n",
    "    def __init__(self, *args, **kwargs):\n",
    "        super().__init__(*args, vocab=Vocab(list(bert_tok.vocab.keys())), **kwargs)\n",
    "\n",
    "        \n",
    "def get_bert_processor(tokenizer:Tokenizer=None, vocab:Vocab=None):\n",
    "    \"\"\"\n",
    "    Constructing preprocessors for BERT\n",
    "    We remove sos/eos tokens since we add that ourselves in the tokenizer.\n",
    "    We also use a custom vocabulary to match the numericalization with the original BERT model.\n",
    "    \"\"\"\n",
    "    return [BertTokenizeProcessor(tokenizer=tokenizer), NumericalizeProcessor(vocab=vocab)]\n",
    "\n",
    "  \n",
    "class BertDataBunch(TextDataBunch):\n",
    "    @classmethod\n",
    "    def from_df(cls, path:PathOrStr, train_df:DataFrame, valid_df:DataFrame, test_df:Optional[DataFrame]=None,\n",
    "                tokenizer:Tokenizer=None, vocab:Vocab=None,\n",
    "                classes:Collection[str]=None, text_cols:IntsOrStrs=1,\n",
    "                label_cols:IntsOrStrs=0, label_delim:str=None, **kwargs) -> DataBunch:\n",
    "        p_kwargs, kwargs = split_kwargs_by_func(kwargs, get_bert_processor)\n",
    "        # use our custom processors while taking tokenizer and vocab as kwargs\n",
    "        processor = get_bert_processor(tokenizer=tokenizer, vocab=vocab, **p_kwargs)\n",
    "        if classes is None and is_listy(label_cols) and len(label_cols) > 1: \n",
    "          classes = label_cols\n",
    "        src = ItemLists(path, TextList.from_df(train_df, path, cols=text_cols, processor=processor),\n",
    "                        TextList.from_df(valid_df, path, cols=text_cols, processor=processor))\n",
    "        src = src.label_for_lm() if cls==TextLMDataBunch else src.label_from_df(cols=label_cols, classes=classes)\n",
    "        if test_df is not None: \n",
    "          src.add_test(TextList.from_df(test_df, path, cols=text_cols))\n",
    "        return src.databunch(**kwargs)"
   ]
  },
  {
   "cell_type": "markdown",
   "metadata": {
    "colab_type": "text",
    "id": "1Fz6zD_NDW1Z"
   },
   "source": [
    "# Create BERT-pipeline."
   ]
  },
  {
   "cell_type": "code",
   "execution_count": 7,
   "metadata": {
    "colab": {
     "base_uri": "https://localhost:8080/",
     "height": 366
    },
    "colab_type": "code",
    "id": "x5RUfYJ3s6U-",
    "outputId": "feecd79f-2aee-4728-c9d1-649c3633f765"
   },
   "outputs": [
    {
     "data": {
      "text/plain": [
       "TextClasDataBunch;\n",
       "\n",
       "Train: LabelList (6947 items)\n",
       "x: TextList\n",
       "[CLS] please , be kind to each other . i ' ve been lurking with in this sub for nearly a year now , and have slowly watched it progress to , what can be best be described as , a circle jerk , full of hate . * disc ##lai ##mer : many may , or may not , agree with me in my following statement . * first i would like to address the circle jerk , i ' m , personally , fine with a couple me ##mes every now and then that ex ##agger ##ate upon the int ##j label , the light ##ness of humor is welcome here , and the many da ##e posts , since every once and a while [SEP],[CLS] is ##f ##j ' s : who ' s your favorite character from lord of the rings ? also , please note if you ' re referring to the book character or the movie character , since they differ somewhat : ) [SEP],[CLS] not sure you ' re an en ##tp ? here ' s how the functions play out in our stack . ne : if int ##ang ##ible information has never been an issue to pick up almost immediately and jumping from topic to topic , idea to idea , is so effort ##less and automatic you never notice . you ' re an ne dom . this is especially true if people just can ##t follow what the fuck you ' re saying , figure you out , or where you got you ' re thinking from . ti : ti is slow in its thinking , and always \\ ( almost constantly as much as ne picks up on shit \\ ) formula ##ting new [SEP],[CLS] weekly thread : what ' s your ist ##j super ##power ? welcome to our weekly thread ! this week ' s topic is : what part of your ist ##j personality are you grateful for ? what ' s useful for you at work / school or something that your friends and family appreciate you for ? please remember to keep discourse civil and respectful , but other than that , feel free to share as much or as little as you ' d like ! [SEP],[CLS] does anyone else have a hard time explaining things in a direct manner ? like someone will ask you a question about something ( how you feel , what you think , your opinion ) and you have it in your mind but you can ’ t outright explain it so you end up explaining around the topic or you can ’ t find the correct expression or word to describe it ? but it ’ s easier to express through writing ? [SEP]\n",
       "y: CategoryList\n",
       "introvert,introvert,extrovert,introvert,introvert\n",
       "Path: .;\n",
       "\n",
       "Valid: LabelList (2316 items)\n",
       "x: TextList\n",
       "[CLS] in what way do you feel you are ed and not ed ? what makes you an en ##t ##j and not an int ##j in this regard ? [SEP],[CLS] si dom isn ' t described well enough just some thoughts to consider : ) i recently learned that si is all about layers of comfort . as such , si + fe often results in making sure we ourselves and those around us all feel comfortable . the \" mom \" stereo ##type comes up via this as most info seems to address how x ##sf ##js do things for others and such , however , in group dynamics is ##f ##js will work to keep everyone * emotionally * comfortable as well . is ##f ##js want everyone to feel welcome in the conversation and to have their input valued . i find myself jumping to the defense of someone who is \" wrong [SEP],[CLS] removing / cutting people out i ' m working on a lot of things inwardly in my life right now and i ' m worried that i might have to remove a few people from my life . either they ' re time / energy sucks or i ' m just un ##trust ##ing / conflict ##ed about them . i ' m wondering what that process looks like to all of you ? how do those conversations occur ? do i have to cod ##dle people with the truth or is it okay to simply go with brass tack ##s and lay it out . i dunn ##o , i ' m not good at this at all . [SEP],[CLS] how important is it to have something to look forward to ? i ’ ve been struggling with depression as of late , and i ’ m tired of it . in my tries to get out of it , i struggle to find po ##sit ##ivity in my life , as i ’ ve made a few mistakes in recent years that seem to be blocking me from growing and believing in myself . so i ask , how important is it to you guys to have a vision and something to strive towards ? without that vision , do you think you ’ d be as productive ? why or why not ? [SEP],[CLS] sur ##very ! mb ##ti & music hello ! i ' m doing a research work about the relationship between mb ##ti and music preferences . please click the link could you please answer this mini test ? https : / / doc ##s . google . com / forms / d / e / 1 ##fa ##ip ##q ##ls ##ex ##r ##3 ##ba ##v ##j ##pm ##lz ##h ##1 ##de ##q ##q ##tl ##ay ##v ##q ##z ##l ##gb ##t ##d ##n ##3 ##lou ##n ##8 ##mg ##j ##fs ##nh ##7 ##w ##w ##w / view ##form # thanks # music # share # mb ##ti [SEP]\n",
       "y: CategoryList\n",
       "extrovert,introvert,extrovert,extrovert,extrovert\n",
       "Path: .;\n",
       "\n",
       "Test: None"
      ]
     },
     "execution_count": 7,
     "metadata": {
      "tags": []
     },
     "output_type": "execute_result"
    }
   ],
   "source": [
    "databunch = BertDataBunch.from_df(\".\", train, val, None,\n",
    "                   tokenizer=fastai_tokenizer,\n",
    "                   vocab=fastai_bert_vocab,\n",
    "                   text_cols=\"text\",\n",
    "                   classes=mb_types,\n",
    "                   label_cols=[\"label\"],\n",
    "                   bs=32,\n",
    "                   collate_fn=partial(pad_collate, pad_first=False, pad_idx=0),\n",
    ")\n",
    "databunch"
   ]
  },
  {
   "cell_type": "markdown",
   "metadata": {
    "colab_type": "text",
    "id": "kmx46r-1Daym"
   },
   "source": [
    "# Create BERT-model and wrap it in a learner for training."
   ]
  },
  {
   "cell_type": "code",
   "execution_count": 0,
   "metadata": {
    "colab": {},
    "colab_type": "code",
    "id": "zvO5neumvAAq"
   },
   "outputs": [],
   "source": [
    "bert_model = BertForSequenceClassification.from_pretrained(\n",
    "    'bert-base-uncased',\n",
    "    num_labels=len(mb_types)\n",
    ")\n",
    "\n",
    "loss_func = nn.CrossEntropyLoss()\n",
    "learner = Learner(\n",
    "    databunch, bert_model,\n",
    "    loss_func=loss_func,\n",
    "    metrics=accuracy\n",
    ")\n"
   ]
  },
  {
   "cell_type": "markdown",
   "metadata": {
    "colab_type": "text",
    "id": "tXMHYsBzDg6Q"
   },
   "source": [
    "# Find learning rate."
   ]
  },
  {
   "cell_type": "code",
   "execution_count": 9,
   "metadata": {
    "colab": {
     "base_uri": "https://localhost:8080/",
     "height": 300
    },
    "colab_type": "code",
    "id": "Z_983gzOvzqV",
    "outputId": "50a58ebc-42b6-4757-85a3-4327c6678d8a"
   },
   "outputs": [
    {
     "data": {
      "text/html": [],
      "text/plain": [
       "<IPython.core.display.HTML object>"
      ]
     },
     "metadata": {
      "tags": []
     },
     "output_type": "display_data"
    },
    {
     "name": "stdout",
     "output_type": "stream",
     "text": [
      "LR Finder is complete, type {learner_name}.recorder.plot() to see the graph.\n"
     ]
    },
    {
     "data": {
      "image/png": "[encoded data removed]",
      "text/plain": [
       "<Figure size 432x288 with 1 Axes>"
      ]
     },
     "metadata": {
      "tags": []
     },
     "output_type": "display_data"
    }
   ],
   "source": [
    "learner.lr_find()\n",
    "learner.recorder.plot()"
   ]
  },
  {
   "cell_type": "markdown",
   "metadata": {
    "colab_type": "text",
    "id": "oPjB4z5CDjnO"
   },
   "source": [
    "# Train the model for a couple of epochs."
   ]
  },
  {
   "cell_type": "code",
   "execution_count": 10,
   "metadata": {
    "colab": {
     "base_uri": "https://localhost:8080/",
     "height": 219
    },
    "colab_type": "code",
    "id": "rL2v90xFwW9_",
    "outputId": "7e60ef2a-de1f-4352-ac02-35c9cba8fbae"
   },
   "outputs": [
    {
     "data": {
      "text/html": [
       "<table border=\"1\" class=\"dataframe\">\n",
       "  <thead>\n",
       "    <tr style=\"text-align: left;\">\n",
       "      <th>epoch</th>\n",
       "      <th>train_loss</th>\n",
       "      <th>valid_loss</th>\n",
       "      <th>accuracy</th>\n",
       "      <th>time</th>\n",
       "    </tr>\n",
       "  </thead>\n",
       "  <tbody>\n",
       "    <tr>\n",
       "      <td>0</td>\n",
       "      <td>0.614905</td>\n",
       "      <td>0.406366</td>\n",
       "      <td>0.810017</td>\n",
       "      <td>10:13</td>\n",
       "    </tr>\n",
       "    <tr>\n",
       "      <td>1</td>\n",
       "      <td>0.331705</td>\n",
       "      <td>0.339838</td>\n",
       "      <td>0.844128</td>\n",
       "      <td>10:02</td>\n",
       "    </tr>\n",
       "    <tr>\n",
       "      <td>2</td>\n",
       "      <td>0.297316</td>\n",
       "      <td>0.311411</td>\n",
       "      <td>0.851468</td>\n",
       "      <td>09:54</td>\n",
       "    </tr>\n",
       "    <tr>\n",
       "      <td>3</td>\n",
       "      <td>0.225756</td>\n",
       "      <td>0.349627</td>\n",
       "      <td>0.851900</td>\n",
       "      <td>09:25</td>\n",
       "    </tr>\n",
       "    <tr>\n",
       "      <td>4</td>\n",
       "      <td>0.161780</td>\n",
       "      <td>0.370187</td>\n",
       "      <td>0.854922</td>\n",
       "      <td>09:29</td>\n",
       "    </tr>\n",
       "  </tbody>\n",
       "</table>"
      ],
      "text/plain": [
       "<IPython.core.display.HTML object>"
      ]
     },
     "metadata": {
      "tags": []
     },
     "output_type": "display_data"
    }
   ],
   "source": [
    "learner = learner.to_fp16()\n",
    "learner.fit_one_cycle(5, max_lr=3e-5)"
   ]
  },
  {
   "cell_type": "markdown",
   "metadata": {
    "colab_type": "text",
    "id": "Jlps_aFnjief"
   },
   "source": [
    "# Render losses and metrics."
   ]
  },
  {
   "cell_type": "code",
   "execution_count": 12,
   "metadata": {
    "colab": {
     "base_uri": "https://localhost:8080/",
     "height": 549
    },
    "colab_type": "code",
    "id": "Q_3vqG_zQRvA",
    "outputId": "2f47bfbc-046c-4723-90f3-56c2eb5a304c"
   },
   "outputs": [
    {
     "data": {
      "image/png": "[encoded data removed]",
      "text/plain": [
       "<Figure size 432x288 with 1 Axes>"
      ]
     },
     "metadata": {
      "tags": []
     },
     "output_type": "display_data"
    },
    {
     "data": {
      "image/png": "[encoded data removed]",
      "text/plain": [
       "<Figure size 432x288 with 1 Axes>"
      ]
     },
     "metadata": {
      "tags": []
     },
     "output_type": "display_data"
    }
   ],
   "source": [
    "learner.recorder.plot_losses()\n",
    "learner.recorder.plot_metrics()"
   ]
  },
  {
   "cell_type": "markdown",
   "metadata": {
    "colab_type": "text",
    "id": "oq2MTNDejmEf"
   },
   "source": [
    "# Render confusion matrix."
   ]
  },
  {
   "cell_type": "code",
   "execution_count": 13,
   "metadata": {
    "colab": {
     "base_uri": "https://localhost:8080/",
     "height": 311
    },
    "colab_type": "code",
    "id": "NNubjsNNVKLw",
    "outputId": "5e6111ca-fce2-43a4-f514-e1d0eb19d874"
   },
   "outputs": [
    {
     "data": {
      "image/png": "[encoded data removed]",
      "text/plain": [
       "<Figure size 432x288 with 1 Axes>"
      ]
     },
     "metadata": {
      "tags": []
     },
     "output_type": "display_data"
    }
   ],
   "source": [
    "interp = ClassificationInterpretation.from_learner(learner)\n",
    "interp.plot_confusion_matrix()"
   ]
  },
  {
   "cell_type": "markdown",
   "metadata": {
    "colab_type": "text",
    "id": "7YcJggxTjo32"
   },
   "source": [
    "# Do some predictions."
   ]
  },
  {
   "cell_type": "code",
   "execution_count": 14,
   "metadata": {
    "colab": {
     "base_uri": "https://localhost:8080/",
     "height": 51
    },
    "colab_type": "code",
    "id": "X5dBECOXWDW6",
    "outputId": "a63b0423-f348-46a5-805e-59667f7803fd"
   },
   "outputs": [
    {
     "name": "stdout",
     "output_type": "stream",
     "text": [
      "(Category introvert, tensor(0), tensor([0.9759, 0.0241]))\n",
      "(Category extrovert, tensor(1), tensor([0.4267, 0.5733]))\n"
     ]
    }
   ],
   "source": [
    "print(learner.predict(\"I want to be alone. I love painting and listening to good music. I never go to parties. I feel scared of people all the time.\"))\n",
    "print(learner.predict(\"Listen to me! What you have done there is excellent. Tell me more about it!\"))"
   ]
  }
 ],
 "metadata": {
  "accelerator": "GPU",
  "colab": {
   "collapsed_sections": [],
   "name": "fastai bert.ipynb",
   "provenance": [],
   "version": "0.3.2"
  },
  "kernelspec": {
   "display_name": "Python 3",
   "language": "python",
   "name": "python3"
  },
  "language_info": {
   "codemirror_mode": {
    "name": "ipython",
    "version": 3
   },
   "file_extension": ".py",
   "mimetype": "text/x-python",
   "name": "python",
   "nbconvert_exporter": "python",
   "pygments_lexer": "ipython3",
   "version": "3.6.5"
  }
 },
 "nbformat": 4,
 "nbformat_minor": 1
}
